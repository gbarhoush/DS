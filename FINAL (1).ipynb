{
 "cells": [
  {
   "cell_type": "markdown",
   "metadata": {},
   "source": [
    "# COGS 109 - Final Project\n",
    "link to video: https://youtu.be/qanXV12vVTo"
   ]
  },
  {
   "cell_type": "markdown",
   "metadata": {},
   "source": [
    "# Names\n",
    "\n",
    "Ghada Barhoush"
   ]
  },
  {
   "cell_type": "markdown",
   "metadata": {},
   "source": [
    "# Research Question"
   ]
  },
  {
   "cell_type": "markdown",
   "metadata": {},
   "source": [
    "\n",
    "With the increasing transition to remote work post COVID-19, how has remote work affected the mental and physical health, and job satisfaction when compared to working in a traditional office-based environment and does that cause a preference for one method over the other?\n",
    "\n"
   ]
  },
  {
   "cell_type": "markdown",
   "metadata": {},
   "source": [
    "# Background and Prior Work"
   ]
  },
  {
   "cell_type": "markdown",
   "metadata": {},
   "source": [
    "Remote work has become the new norm, especially when it comes to the tech industry. This trend of rising remote work has emerged after the COVID-19 pandemic, when many workers had to stay at home, and that caused companies to find ways to ensure that workers can continue working without losing progress. Even though the pandemic has been declared to be officially over by the government, some jobs have stayed remote or have introduced the concept of hybrid work. Remote work has seemed to benefit those who have children or those with disabilities. However, on the other hand, some workers have pointed to remote work as the cause of possible and even physical health issues. It has been an ongoing debate- should remote work be encouraged or should companies return to the traditional office workplace?\n",
    "\n",
    "A survey done by McKisney & Company has looked into how the workers feel about the changes that came with the COVID-19 pandemic. Interestingly enough, they have found that attitudes towards hybrid and remote work has changed after the pandemic. Before the pandemic, 62% of survey participants had desired on-site work, but that has changed to 37% post pandemic. Majority of survey participants had desired the hybrid method of working. Another interesting look into the attitudes regarding on-site work, was that 30% of participants had admitted they would leave their job if they were prompted to work fully on-site. These responses convey a lot when it comes to the changing attitudes toward remote/hybrid work and its potential benefits for the workers. [^A, Alexander et al, 2021] \n",
    "\n",
    "A paper titled ‘The Future of Remote Work’ has found that workers have seen several benefits to remote work, including no commute, more productivity and greater autonomy. A common issue was technological issues. This paper has found that there is an increase in hiring managers who are open towards the shift to remote work. It is very likely that remote/hybrid work will becoming increasingly normalized in the work culture. The increasing positive responses from workers and hiring managers alike would be a definite cause for the new era of remote work. [^A, Ozimek, 2020]\n",
    "\n",
    "\n",
    "[^A, Alexander et al, 2021] Alexander, A., Smet, A. D., Langstaff, M., &amp; Ravid, D. (2021, April 1). What employees are saying about the future of remote work. McKinsey &amp; Company. https://www.mckinsey.com/capabilities/people-and-organizational-performance/our-insights/what-employees-are-saying-about-the-future-of-remote-work \n",
    "[^A, Ozimek, 2020] Ozimek, A. (2020). The future of remote work | upwork. https://www.upwork.com/press/releases/the-future-of-remote-work \n"
   ]
  },
  {
   "cell_type": "markdown",
   "metadata": {},
   "source": [
    "# Hypothesis\n"
   ]
  },
  {
   "cell_type": "markdown",
   "metadata": {},
   "source": [
    "Hypothesis: The method in which people work (remote or on-site) will have different effects on workers due to differing reasons. Workers are likely to prefer remote work over on-site work, but the majority would opt for a hybrid work approach.\n",
    "\n",
    "Null hypothesis: There is no significant difference in the effects on workers between remote work and on-site work. "
   ]
  },
  {
   "cell_type": "markdown",
   "metadata": {},
   "source": [
    "# Data"
   ]
  },
  {
   "cell_type": "markdown",
   "metadata": {},
   "source": [
    "\n",
    "An ideal dataset would have responses from workers on their experience with remote/on-site work, how it has affected them, and includes their prefrences. This data could be collected through a survey form. I have found two different datasets that have the variables and observations I am looking for. Both are stored as csv files, as rectangular data sets. \n",
    "I am planning to remove null values as well as columns that I do not think I would need aka unneccessary information to my project. \n",
    "Here are the links to the datasets (I will choose only one that I feel is better suited for my project): \n",
    "\n",
    "https://www.kaggle.com/datasets/mohamedelzeini/the-impacts-of-working-remotely-and-in-an-office\n",
    "\n"
   ]
  },
  {
   "cell_type": "markdown",
   "metadata": {},
   "source": [
    "# Team Expectations "
   ]
  },
  {
   "cell_type": "markdown",
   "metadata": {},
   "source": [
    "- The data collected and analyzed should be ethical \n",
    "- The code should be clear and concise \n",
    "- The work should be submitted on time\n",
    "- Have a well organized plan for the project"
   ]
  },
  {
   "cell_type": "markdown",
   "metadata": {},
   "source": [
    "# Project Timeline Proposal"
   ]
  },
  {
   "cell_type": "markdown",
   "metadata": {},
   "source": [
    "Specify your team's project timeline. An example timeline has been provided. Changes the dates, times, names, and details to fit your group's plan.\n",
    "\n",
    "If you think you will need any special resources or training outside what we have covered in COGS 109 to solve your problem, then your proposal should state these clearly. For example, if you have selected a problem that involves implementing multiple neural networks, please state this so we can make sure you are on track for success and so we can point you to resources you will need to implement your project. Note that you are not required to use outside methods.\n",
    "\n",
    "\n",
    "\n",
    "| Meeting Date  | Meeting Time| Completed Before Meeting  | Discuss at Meeting |\n",
    "|---|---|---|---|\n",
    "| 7/25  |  11:59 PM | Read & Think about COGS 109 expectations; brainstorm topics/questions  | Complete project proposal | \n",
    "| 7/28  |  11:59 PM |  Import and wrangle data | Submit EDA checkpoint | \n",
    "| 8/4  | 11:59 PM | Complete coding/discussion/result and edit full project  | Submit final project with video summary   |\n"
   ]
  },
  {
   "cell_type": "markdown",
   "metadata": {},
   "source": [
    "# Setup and Data Cleaning"
   ]
  },
  {
   "cell_type": "code",
   "execution_count": 36,
   "metadata": {},
   "outputs": [],
   "source": [
    "import pandas as pd\n",
    "import numpy as np\n",
    "import os\n",
    "import re\n",
    "import sklearn\n",
    "import seaborn as sns\n",
    "import matplotlib.pyplot as plt"
   ]
  },
  {
   "cell_type": "code",
   "execution_count": 37,
   "metadata": {},
   "outputs": [],
   "source": [
    "remotedata = pd.read_csv('remote.csv')"
   ]
  },
  {
   "cell_type": "code",
   "execution_count": 38,
   "metadata": {},
   "outputs": [
    {
     "data": {
      "text/html": [
       "<div>\n",
       "<style scoped>\n",
       "    .dataframe tbody tr th:only-of-type {\n",
       "        vertical-align: middle;\n",
       "    }\n",
       "\n",
       "    .dataframe tbody tr th {\n",
       "        vertical-align: top;\n",
       "    }\n",
       "\n",
       "    .dataframe thead th {\n",
       "        text-align: right;\n",
       "    }\n",
       "</style>\n",
       "<table border=\"1\" class=\"dataframe\">\n",
       "  <thead>\n",
       "    <tr style=\"text-align: right;\">\n",
       "      <th></th>\n",
       "      <th>Response ID</th>\n",
       "      <th>Have you ever experienced working from home?</th>\n",
       "      <th>Do you think that working from home increases your work productivity?</th>\n",
       "      <th>Do you think that working from home prevents you from going out?</th>\n",
       "      <th>Do you think that working from home gives you more flexibility?</th>\n",
       "      <th>Do you think that working from home saves you more time?</th>\n",
       "      <th>Which work type has the potential to cause you physical problems, such as the neck, back, and leg pain?</th>\n",
       "      <th>Which work type has the potential to cause mental disorders, such as stress, anxiety, and depression?</th>\n",
       "      <th>Do you think that working from home prevents you from getting in contact with people?</th>\n",
       "      <th>Which work type keeps you focused while working?</th>\n",
       "      <th>Which work type do you prefer the most?</th>\n",
       "    </tr>\n",
       "  </thead>\n",
       "  <tbody>\n",
       "    <tr>\n",
       "      <th>0</th>\n",
       "      <td>1</td>\n",
       "      <td>Yes</td>\n",
       "      <td>No</td>\n",
       "      <td>Yes</td>\n",
       "      <td>Yes</td>\n",
       "      <td>No</td>\n",
       "      <td>Working from home</td>\n",
       "      <td>Working from home</td>\n",
       "      <td>No</td>\n",
       "      <td>Working from home</td>\n",
       "      <td>A mixed mode of working</td>\n",
       "    </tr>\n",
       "    <tr>\n",
       "      <th>1</th>\n",
       "      <td>2</td>\n",
       "      <td>Yes</td>\n",
       "      <td>Yes</td>\n",
       "      <td>Yes</td>\n",
       "      <td>Yes</td>\n",
       "      <td>No</td>\n",
       "      <td>Working from home</td>\n",
       "      <td>Working from home</td>\n",
       "      <td>Yes</td>\n",
       "      <td>Working from home</td>\n",
       "      <td>Working from home</td>\n",
       "    </tr>\n",
       "    <tr>\n",
       "      <th>2</th>\n",
       "      <td>3</td>\n",
       "      <td>No</td>\n",
       "      <td>Yes</td>\n",
       "      <td>Yes</td>\n",
       "      <td>Yes</td>\n",
       "      <td>No</td>\n",
       "      <td>Working from home</td>\n",
       "      <td>Working in an office</td>\n",
       "      <td>Yes</td>\n",
       "      <td>Working in an office</td>\n",
       "      <td>Working in an office</td>\n",
       "    </tr>\n",
       "    <tr>\n",
       "      <th>3</th>\n",
       "      <td>4</td>\n",
       "      <td>Yes</td>\n",
       "      <td>Yes</td>\n",
       "      <td>No</td>\n",
       "      <td>Yes</td>\n",
       "      <td>No</td>\n",
       "      <td>Working in an office</td>\n",
       "      <td>Working from home</td>\n",
       "      <td>Yes</td>\n",
       "      <td>Working in an office</td>\n",
       "      <td>Working from home</td>\n",
       "    </tr>\n",
       "    <tr>\n",
       "      <th>4</th>\n",
       "      <td>5</td>\n",
       "      <td>Yes</td>\n",
       "      <td>No</td>\n",
       "      <td>No</td>\n",
       "      <td>Yes</td>\n",
       "      <td>Yes</td>\n",
       "      <td>Working in an office</td>\n",
       "      <td>Working in an office</td>\n",
       "      <td>No</td>\n",
       "      <td>Working from home</td>\n",
       "      <td>Working in an office</td>\n",
       "    </tr>\n",
       "  </tbody>\n",
       "</table>\n",
       "</div>"
      ],
      "text/plain": [
       "   Response ID Have you ever experienced working from home?  \\\n",
       "0            1                                          Yes   \n",
       "1            2                                          Yes   \n",
       "2            3                                           No   \n",
       "3            4                                          Yes   \n",
       "4            5                                          Yes   \n",
       "\n",
       "  Do you think that working from home increases your work productivity?  \\\n",
       "0                                                 No                      \n",
       "1                                                Yes                      \n",
       "2                                                Yes                      \n",
       "3                                                Yes                      \n",
       "4                                                 No                      \n",
       "\n",
       "  Do you think that working from home prevents you from going out?  \\\n",
       "0                                                Yes                 \n",
       "1                                                Yes                 \n",
       "2                                                Yes                 \n",
       "3                                                 No                 \n",
       "4                                                 No                 \n",
       "\n",
       "  Do you think that working from home gives you more flexibility?  \\\n",
       "0                                                Yes                \n",
       "1                                                Yes                \n",
       "2                                                Yes                \n",
       "3                                                Yes                \n",
       "4                                                Yes                \n",
       "\n",
       "  Do you think that working from home saves you more time?  \\\n",
       "0                                                 No         \n",
       "1                                                 No         \n",
       "2                                                 No         \n",
       "3                                                 No         \n",
       "4                                                Yes         \n",
       "\n",
       "  Which work type has the potential to cause you physical problems, such as the neck, back, and leg pain?  \\\n",
       "0                                  Working from home                                                        \n",
       "1                                  Working from home                                                        \n",
       "2                                  Working from home                                                        \n",
       "3                               Working in an office                                                        \n",
       "4                               Working in an office                                                        \n",
       "\n",
       "  Which work type has the potential to cause mental disorders, such as stress, anxiety, and depression?  \\\n",
       "0                                  Working from home                                                      \n",
       "1                                  Working from home                                                      \n",
       "2                               Working in an office                                                      \n",
       "3                                  Working from home                                                      \n",
       "4                               Working in an office                                                      \n",
       "\n",
       "  Do you think that working from home prevents you from getting in contact with people?  \\\n",
       "0                                                 No                                      \n",
       "1                                                Yes                                      \n",
       "2                                                Yes                                      \n",
       "3                                                Yes                                      \n",
       "4                                                 No                                      \n",
       "\n",
       "  Which work type keeps you focused while working?  \\\n",
       "0                                Working from home   \n",
       "1                                Working from home   \n",
       "2                             Working in an office   \n",
       "3                             Working in an office   \n",
       "4                                Working from home   \n",
       "\n",
       "  Which work type do you prefer the most?  \n",
       "0                 A mixed mode of working  \n",
       "1                       Working from home  \n",
       "2                    Working in an office  \n",
       "3                       Working from home  \n",
       "4                    Working in an office  "
      ]
     },
     "execution_count": 38,
     "metadata": {},
     "output_type": "execute_result"
    }
   ],
   "source": [
    "remotedata.head()"
   ]
  },
  {
   "cell_type": "code",
   "execution_count": 39,
   "metadata": {},
   "outputs": [],
   "source": [
    "columns_to_rename = {'Have you ever experienced working from home?': 'experience','Do you think that working from home increases your work productivity?': 'productivity', 'Do you think that working from home prevents you from going out?': 'outings', 'Do you think that working from home gives you more flexibility?': 'flexibility', \n",
    "                     'Do you think that working from home saves you more time?':'saving time', 'Which work type has the potential to cause you physical problems, such as the neck, back, and leg pain?': 'physical stress',\n",
    "                     'Which work type has the potential to cause mental disorders, such as stress, anxiety, and depression?': 'mental health', 'Do you think that working from home prevents you from getting in contact with people?': 'contact', 'Which work type keeps you focused while working?':'focus','Which work type do you prefer the most?':'preference' }"
   ]
  },
  {
   "cell_type": "code",
   "execution_count": 40,
   "metadata": {},
   "outputs": [],
   "source": [
    "remotedata.rename(columns=columns_to_rename, inplace=True)"
   ]
  },
  {
   "cell_type": "code",
   "execution_count": 41,
   "metadata": {},
   "outputs": [
    {
     "data": {
      "text/html": [
       "<div>\n",
       "<style scoped>\n",
       "    .dataframe tbody tr th:only-of-type {\n",
       "        vertical-align: middle;\n",
       "    }\n",
       "\n",
       "    .dataframe tbody tr th {\n",
       "        vertical-align: top;\n",
       "    }\n",
       "\n",
       "    .dataframe thead th {\n",
       "        text-align: right;\n",
       "    }\n",
       "</style>\n",
       "<table border=\"1\" class=\"dataframe\">\n",
       "  <thead>\n",
       "    <tr style=\"text-align: right;\">\n",
       "      <th></th>\n",
       "      <th>Response ID</th>\n",
       "      <th>experience</th>\n",
       "      <th>productivity</th>\n",
       "      <th>outings</th>\n",
       "      <th>flexibility</th>\n",
       "      <th>saving time</th>\n",
       "      <th>physical stress</th>\n",
       "      <th>mental health</th>\n",
       "      <th>contact</th>\n",
       "      <th>focus</th>\n",
       "      <th>preference</th>\n",
       "    </tr>\n",
       "  </thead>\n",
       "  <tbody>\n",
       "    <tr>\n",
       "      <th>0</th>\n",
       "      <td>1</td>\n",
       "      <td>Yes</td>\n",
       "      <td>No</td>\n",
       "      <td>Yes</td>\n",
       "      <td>Yes</td>\n",
       "      <td>No</td>\n",
       "      <td>Working from home</td>\n",
       "      <td>Working from home</td>\n",
       "      <td>No</td>\n",
       "      <td>Working from home</td>\n",
       "      <td>A mixed mode of working</td>\n",
       "    </tr>\n",
       "    <tr>\n",
       "      <th>1</th>\n",
       "      <td>2</td>\n",
       "      <td>Yes</td>\n",
       "      <td>Yes</td>\n",
       "      <td>Yes</td>\n",
       "      <td>Yes</td>\n",
       "      <td>No</td>\n",
       "      <td>Working from home</td>\n",
       "      <td>Working from home</td>\n",
       "      <td>Yes</td>\n",
       "      <td>Working from home</td>\n",
       "      <td>Working from home</td>\n",
       "    </tr>\n",
       "    <tr>\n",
       "      <th>2</th>\n",
       "      <td>3</td>\n",
       "      <td>No</td>\n",
       "      <td>Yes</td>\n",
       "      <td>Yes</td>\n",
       "      <td>Yes</td>\n",
       "      <td>No</td>\n",
       "      <td>Working from home</td>\n",
       "      <td>Working in an office</td>\n",
       "      <td>Yes</td>\n",
       "      <td>Working in an office</td>\n",
       "      <td>Working in an office</td>\n",
       "    </tr>\n",
       "    <tr>\n",
       "      <th>3</th>\n",
       "      <td>4</td>\n",
       "      <td>Yes</td>\n",
       "      <td>Yes</td>\n",
       "      <td>No</td>\n",
       "      <td>Yes</td>\n",
       "      <td>No</td>\n",
       "      <td>Working in an office</td>\n",
       "      <td>Working from home</td>\n",
       "      <td>Yes</td>\n",
       "      <td>Working in an office</td>\n",
       "      <td>Working from home</td>\n",
       "    </tr>\n",
       "    <tr>\n",
       "      <th>4</th>\n",
       "      <td>5</td>\n",
       "      <td>Yes</td>\n",
       "      <td>No</td>\n",
       "      <td>No</td>\n",
       "      <td>Yes</td>\n",
       "      <td>Yes</td>\n",
       "      <td>Working in an office</td>\n",
       "      <td>Working in an office</td>\n",
       "      <td>No</td>\n",
       "      <td>Working from home</td>\n",
       "      <td>Working in an office</td>\n",
       "    </tr>\n",
       "  </tbody>\n",
       "</table>\n",
       "</div>"
      ],
      "text/plain": [
       "   Response ID experience productivity outings flexibility saving time  \\\n",
       "0            1        Yes           No     Yes         Yes          No   \n",
       "1            2        Yes          Yes     Yes         Yes          No   \n",
       "2            3         No          Yes     Yes         Yes          No   \n",
       "3            4        Yes          Yes      No         Yes          No   \n",
       "4            5        Yes           No      No         Yes         Yes   \n",
       "\n",
       "        physical stress         mental health contact                 focus  \\\n",
       "0     Working from home     Working from home      No     Working from home   \n",
       "1     Working from home     Working from home     Yes     Working from home   \n",
       "2     Working from home  Working in an office     Yes  Working in an office   \n",
       "3  Working in an office     Working from home     Yes  Working in an office   \n",
       "4  Working in an office  Working in an office      No     Working from home   \n",
       "\n",
       "                preference  \n",
       "0  A mixed mode of working  \n",
       "1        Working from home  \n",
       "2     Working in an office  \n",
       "3        Working from home  \n",
       "4     Working in an office  "
      ]
     },
     "execution_count": 41,
     "metadata": {},
     "output_type": "execute_result"
    }
   ],
   "source": [
    "remotedata.head()"
   ]
  },
  {
   "cell_type": "code",
   "execution_count": 42,
   "metadata": {},
   "outputs": [
    {
     "name": "stdout",
     "output_type": "stream",
     "text": [
      "['Yes' 'No']\n",
      "['No' 'Yes']\n",
      "['Yes' 'No']\n",
      "['Yes']\n",
      "['No' 'Yes']\n",
      "['Working from home' 'Working in an office']\n",
      "['Working from home' 'Working in an office']\n",
      "['No' 'Yes']\n",
      "['Working from home' 'Working in an office']\n",
      "['A mixed mode of working' 'Working from home' 'Working in an office']\n"
     ]
    }
   ],
   "source": [
    "#Need to see the values in each column\n",
    "unique_values1 = remotedata['experience'].unique()\n",
    "print (unique_values1)\n",
    "\n",
    "unique_values2 = remotedata['productivity'].unique()\n",
    "print (unique_values2)\n",
    "\n",
    "\n",
    "unique_values3 = remotedata['outings'].unique()\n",
    "print (unique_values3)\n",
    "\n",
    "unique_values4 = remotedata['flexibility'].unique()\n",
    "print (unique_values4)\n",
    "\n",
    "unique_values5 = remotedata['saving time'].unique()\n",
    "print (unique_values5)\n",
    "\n",
    "unique_values6 = remotedata['physical stress'].unique()\n",
    "print (unique_values6)\n",
    "\n",
    "unique_values7 = remotedata['mental health'].unique()\n",
    "print (unique_values7)\n",
    "\n",
    "unique_values8 = remotedata['contact'].unique()\n",
    "print (unique_values8)\n",
    "\n",
    "unique_values9 = remotedata['focus'].unique()\n",
    "print (unique_values9)\n",
    "\n",
    "unique_values9 = remotedata['preference'].unique()\n",
    "print (unique_values9)"
   ]
  },
  {
   "cell_type": "code",
   "execution_count": 43,
   "metadata": {},
   "outputs": [],
   "source": [
    "#change values \n",
    "remotedata['experience'] = remotedata['experience'].replace({'Yes': 1, 'No': 0})\n",
    "remotedata['productivity'] = remotedata['productivity'].replace({'Yes': 1, 'No': 0})\n",
    "remotedata['outings'] = remotedata['outings'].replace({'Yes': 1, 'No': 0})\n",
    "remotedata['flexibility'] = remotedata['flexibility'].replace({'Yes': 1, 'No': 0})\n",
    "remotedata['saving time'] = remotedata['saving time'].replace({'Yes': 1, 'No': 0})\n",
    "remotedata['contact'] = remotedata['contact'].replace({'Yes': 1, 'No': 0})\n"
   ]
  },
  {
   "cell_type": "code",
   "execution_count": 44,
   "metadata": {},
   "outputs": [
    {
     "data": {
      "text/html": [
       "<div>\n",
       "<style scoped>\n",
       "    .dataframe tbody tr th:only-of-type {\n",
       "        vertical-align: middle;\n",
       "    }\n",
       "\n",
       "    .dataframe tbody tr th {\n",
       "        vertical-align: top;\n",
       "    }\n",
       "\n",
       "    .dataframe thead th {\n",
       "        text-align: right;\n",
       "    }\n",
       "</style>\n",
       "<table border=\"1\" class=\"dataframe\">\n",
       "  <thead>\n",
       "    <tr style=\"text-align: right;\">\n",
       "      <th></th>\n",
       "      <th>Response ID</th>\n",
       "      <th>experience</th>\n",
       "      <th>productivity</th>\n",
       "      <th>outings</th>\n",
       "      <th>flexibility</th>\n",
       "      <th>saving time</th>\n",
       "      <th>physical stress</th>\n",
       "      <th>mental health</th>\n",
       "      <th>contact</th>\n",
       "      <th>focus</th>\n",
       "      <th>preference</th>\n",
       "    </tr>\n",
       "  </thead>\n",
       "  <tbody>\n",
       "    <tr>\n",
       "      <th>0</th>\n",
       "      <td>1</td>\n",
       "      <td>1</td>\n",
       "      <td>0</td>\n",
       "      <td>1</td>\n",
       "      <td>1</td>\n",
       "      <td>0</td>\n",
       "      <td>Working from home</td>\n",
       "      <td>Working from home</td>\n",
       "      <td>0</td>\n",
       "      <td>Working from home</td>\n",
       "      <td>A mixed mode of working</td>\n",
       "    </tr>\n",
       "    <tr>\n",
       "      <th>1</th>\n",
       "      <td>2</td>\n",
       "      <td>1</td>\n",
       "      <td>1</td>\n",
       "      <td>1</td>\n",
       "      <td>1</td>\n",
       "      <td>0</td>\n",
       "      <td>Working from home</td>\n",
       "      <td>Working from home</td>\n",
       "      <td>1</td>\n",
       "      <td>Working from home</td>\n",
       "      <td>Working from home</td>\n",
       "    </tr>\n",
       "    <tr>\n",
       "      <th>2</th>\n",
       "      <td>3</td>\n",
       "      <td>0</td>\n",
       "      <td>1</td>\n",
       "      <td>1</td>\n",
       "      <td>1</td>\n",
       "      <td>0</td>\n",
       "      <td>Working from home</td>\n",
       "      <td>Working in an office</td>\n",
       "      <td>1</td>\n",
       "      <td>Working in an office</td>\n",
       "      <td>Working in an office</td>\n",
       "    </tr>\n",
       "    <tr>\n",
       "      <th>3</th>\n",
       "      <td>4</td>\n",
       "      <td>1</td>\n",
       "      <td>1</td>\n",
       "      <td>0</td>\n",
       "      <td>1</td>\n",
       "      <td>0</td>\n",
       "      <td>Working in an office</td>\n",
       "      <td>Working from home</td>\n",
       "      <td>1</td>\n",
       "      <td>Working in an office</td>\n",
       "      <td>Working from home</td>\n",
       "    </tr>\n",
       "    <tr>\n",
       "      <th>4</th>\n",
       "      <td>5</td>\n",
       "      <td>1</td>\n",
       "      <td>0</td>\n",
       "      <td>0</td>\n",
       "      <td>1</td>\n",
       "      <td>1</td>\n",
       "      <td>Working in an office</td>\n",
       "      <td>Working in an office</td>\n",
       "      <td>0</td>\n",
       "      <td>Working from home</td>\n",
       "      <td>Working in an office</td>\n",
       "    </tr>\n",
       "  </tbody>\n",
       "</table>\n",
       "</div>"
      ],
      "text/plain": [
       "   Response ID  experience  productivity  outings  flexibility  saving time  \\\n",
       "0            1           1             0        1            1            0   \n",
       "1            2           1             1        1            1            0   \n",
       "2            3           0             1        1            1            0   \n",
       "3            4           1             1        0            1            0   \n",
       "4            5           1             0        0            1            1   \n",
       "\n",
       "        physical stress         mental health  contact                 focus  \\\n",
       "0     Working from home     Working from home        0     Working from home   \n",
       "1     Working from home     Working from home        1     Working from home   \n",
       "2     Working from home  Working in an office        1  Working in an office   \n",
       "3  Working in an office     Working from home        1  Working in an office   \n",
       "4  Working in an office  Working in an office        0     Working from home   \n",
       "\n",
       "                preference  \n",
       "0  A mixed mode of working  \n",
       "1        Working from home  \n",
       "2     Working in an office  \n",
       "3        Working from home  \n",
       "4     Working in an office  "
      ]
     },
     "execution_count": 44,
     "metadata": {},
     "output_type": "execute_result"
    }
   ],
   "source": [
    "remotedata.head()"
   ]
  },
  {
   "cell_type": "code",
   "execution_count": 45,
   "metadata": {},
   "outputs": [],
   "source": [
    "remotedata['physical stress'] = remotedata['physical stress'].replace({'Working from home': 1, 'Working in an office': 0})\n",
    "remotedata['mental health'] = remotedata['mental health'].replace({'Working from home': 1, 'Working in an office': 0})\n",
    "remotedata['focus'] = remotedata['focus'].replace({'Working from home': 1, 'Working in an office': 0})\n",
    "remotedata['preference'] = remotedata['preference'].replace({'Working from home': 1, 'Working in an office': 0, 'A mixed mode of working':-1})"
   ]
  },
  {
   "cell_type": "code",
   "execution_count": 46,
   "metadata": {},
   "outputs": [
    {
     "data": {
      "text/html": [
       "<div>\n",
       "<style scoped>\n",
       "    .dataframe tbody tr th:only-of-type {\n",
       "        vertical-align: middle;\n",
       "    }\n",
       "\n",
       "    .dataframe tbody tr th {\n",
       "        vertical-align: top;\n",
       "    }\n",
       "\n",
       "    .dataframe thead th {\n",
       "        text-align: right;\n",
       "    }\n",
       "</style>\n",
       "<table border=\"1\" class=\"dataframe\">\n",
       "  <thead>\n",
       "    <tr style=\"text-align: right;\">\n",
       "      <th></th>\n",
       "      <th>Response ID</th>\n",
       "      <th>experience</th>\n",
       "      <th>productivity</th>\n",
       "      <th>outings</th>\n",
       "      <th>flexibility</th>\n",
       "      <th>saving time</th>\n",
       "      <th>physical stress</th>\n",
       "      <th>mental health</th>\n",
       "      <th>contact</th>\n",
       "      <th>focus</th>\n",
       "      <th>preference</th>\n",
       "    </tr>\n",
       "  </thead>\n",
       "  <tbody>\n",
       "    <tr>\n",
       "      <th>0</th>\n",
       "      <td>1</td>\n",
       "      <td>1</td>\n",
       "      <td>0</td>\n",
       "      <td>1</td>\n",
       "      <td>1</td>\n",
       "      <td>0</td>\n",
       "      <td>1</td>\n",
       "      <td>1</td>\n",
       "      <td>0</td>\n",
       "      <td>1</td>\n",
       "      <td>-1</td>\n",
       "    </tr>\n",
       "    <tr>\n",
       "      <th>1</th>\n",
       "      <td>2</td>\n",
       "      <td>1</td>\n",
       "      <td>1</td>\n",
       "      <td>1</td>\n",
       "      <td>1</td>\n",
       "      <td>0</td>\n",
       "      <td>1</td>\n",
       "      <td>1</td>\n",
       "      <td>1</td>\n",
       "      <td>1</td>\n",
       "      <td>1</td>\n",
       "    </tr>\n",
       "    <tr>\n",
       "      <th>2</th>\n",
       "      <td>3</td>\n",
       "      <td>0</td>\n",
       "      <td>1</td>\n",
       "      <td>1</td>\n",
       "      <td>1</td>\n",
       "      <td>0</td>\n",
       "      <td>1</td>\n",
       "      <td>0</td>\n",
       "      <td>1</td>\n",
       "      <td>0</td>\n",
       "      <td>0</td>\n",
       "    </tr>\n",
       "    <tr>\n",
       "      <th>3</th>\n",
       "      <td>4</td>\n",
       "      <td>1</td>\n",
       "      <td>1</td>\n",
       "      <td>0</td>\n",
       "      <td>1</td>\n",
       "      <td>0</td>\n",
       "      <td>0</td>\n",
       "      <td>1</td>\n",
       "      <td>1</td>\n",
       "      <td>0</td>\n",
       "      <td>1</td>\n",
       "    </tr>\n",
       "    <tr>\n",
       "      <th>4</th>\n",
       "      <td>5</td>\n",
       "      <td>1</td>\n",
       "      <td>0</td>\n",
       "      <td>0</td>\n",
       "      <td>1</td>\n",
       "      <td>1</td>\n",
       "      <td>0</td>\n",
       "      <td>0</td>\n",
       "      <td>0</td>\n",
       "      <td>1</td>\n",
       "      <td>0</td>\n",
       "    </tr>\n",
       "  </tbody>\n",
       "</table>\n",
       "</div>"
      ],
      "text/plain": [
       "   Response ID  experience  productivity  outings  flexibility  saving time  \\\n",
       "0            1           1             0        1            1            0   \n",
       "1            2           1             1        1            1            0   \n",
       "2            3           0             1        1            1            0   \n",
       "3            4           1             1        0            1            0   \n",
       "4            5           1             0        0            1            1   \n",
       "\n",
       "   physical stress  mental health  contact  focus  preference  \n",
       "0                1              1        0      1          -1  \n",
       "1                1              1        1      1           1  \n",
       "2                1              0        1      0           0  \n",
       "3                0              1        1      0           1  \n",
       "4                0              0        0      1           0  "
      ]
     },
     "execution_count": 46,
     "metadata": {},
     "output_type": "execute_result"
    }
   ],
   "source": [
    "remotedata.head()"
   ]
  },
  {
   "cell_type": "markdown",
   "metadata": {},
   "source": [
    "# Data Analysis"
   ]
  },
  {
   "cell_type": "markdown",
   "metadata": {},
   "source": [
    "Let us look at plots that can let us visually see the data. "
   ]
  },
  {
   "cell_type": "code",
   "execution_count": 47,
   "metadata": {},
   "outputs": [
    {
     "data": {
      "image/png": "[encoded data removed]",
      "text/plain": [
       "<Figure size 432x288 with 1 Axes>"
      ]
     },
     "metadata": {
      "needs_background": "light"
     },
     "output_type": "display_data"
    },
    {
     "name": "stdout",
     "output_type": "stream",
     "text": [
      "1    60\n",
      "0    40\n",
      "Name: experience, dtype: int64\n"
     ]
    }
   ],
   "source": [
    "count_yes = remotedata['experience'].sum()\n",
    "count_no = len(remotedata) - count_yes\n",
    "colors = ['pink', 'orange']\n",
    "plt.bar(['Yes', 'No'], [count_yes, count_no], color=colors)\n",
    "plt.xlabel('Response')\n",
    "plt.ylabel('Count')\n",
    "plt.title('Did they have experience with remote work prior to the pandemic?')\n",
    "plt.show()\n",
    "\n",
    "value_counts = remotedata['experience'].value_counts()\n",
    "print (value_counts)"
   ]
  },
  {
   "cell_type": "code",
   "execution_count": 48,
   "metadata": {},
   "outputs": [
    {
     "data": {
      "image/png": "[encoded data removed]",
      "text/plain": [
       "<Figure size 432x288 with 1 Axes>"
      ]
     },
     "metadata": {
      "needs_background": "light"
     },
     "output_type": "display_data"
    },
    {
     "name": "stdout",
     "output_type": "stream",
     "text": [
      "1    70\n",
      "0    30\n",
      "Name: productivity, dtype: int64\n"
     ]
    }
   ],
   "source": [
    "count_yes1 = remotedata['productivity'].sum()\n",
    "count_no1 = len(remotedata) - count_yes\n",
    "plt.bar(['Yes', 'No'], [count_yes1, count_no1], color=colors)\n",
    "plt.xlabel('Response')\n",
    "plt.ylabel('Count')\n",
    "plt.title('Did working from home increase productivity?')\n",
    "plt.show()\n",
    "\n",
    "value_counts1 = remotedata['productivity'].value_counts()\n",
    "print (value_counts1)"
   ]
  },
  {
   "cell_type": "code",
   "execution_count": 49,
   "metadata": {},
   "outputs": [
    {
     "data": {
      "image/png": "[encoded data removed]",
      "text/plain": [
       "<Figure size 432x288 with 1 Axes>"
      ]
     },
     "metadata": {
      "needs_background": "light"
     },
     "output_type": "display_data"
    },
    {
     "name": "stdout",
     "output_type": "stream",
     "text": [
      "1    70\n",
      "0    30\n",
      "Name: outings, dtype: int64\n"
     ]
    }
   ],
   "source": [
    "count_yes3 = remotedata['outings'].sum()\n",
    "count_no3 = len(remotedata) - count_yes3\n",
    "plt.bar(['Yes', 'No'], [count_yes3, count_no3], color=colors)\n",
    "plt.xlabel('Response')\n",
    "plt.ylabel('Count')\n",
    "plt.title('Does Working from home prevent from going out?')\n",
    "plt.show()\n",
    "\n",
    "value_counts3 = remotedata['outings'].value_counts()\n",
    "print (value_counts3)"
   ]
  },
  {
   "cell_type": "code",
   "execution_count": 50,
   "metadata": {},
   "outputs": [
    {
     "data": {
      "image/png": "[encoded data removed]",
      "text/plain": [
       "<Figure size 432x288 with 1 Axes>"
      ]
     },
     "metadata": {
      "needs_background": "light"
     },
     "output_type": "display_data"
    },
    {
     "name": "stdout",
     "output_type": "stream",
     "text": [
      "1    100\n",
      "Name: flexibility, dtype: int64\n"
     ]
    }
   ],
   "source": [
    "count_yes4 = remotedata['flexibility'].sum()\n",
    "count_no4 = len(remotedata) - count_yes4\n",
    "plt.bar(['Yes', 'No'], [count_yes4, count_no4], color=colors)\n",
    "plt.xlabel('Response')\n",
    "plt.ylabel('Count')\n",
    "plt.title('Does working from home increase flexibility?')\n",
    "plt.show()\n",
    "\n",
    "value_counts4 = remotedata['flexibility'].value_counts()\n",
    "print (value_counts4)"
   ]
  },
  {
   "cell_type": "code",
   "execution_count": 51,
   "metadata": {},
   "outputs": [
    {
     "data": {
      "image/png": "[encoded data removed]",
      "text/plain": [
       "<Figure size 432x288 with 1 Axes>"
      ]
     },
     "metadata": {
      "needs_background": "light"
     },
     "output_type": "display_data"
    },
    {
     "name": "stdout",
     "output_type": "stream",
     "text": [
      "0    60\n",
      "1    40\n",
      "Name: saving time, dtype: int64\n"
     ]
    }
   ],
   "source": [
    "count_yes5 = remotedata['saving time'].sum()\n",
    "count_no5 = len(remotedata) - count_yes5\n",
    "plt.bar(['Yes', 'No'], [count_yes5, count_no5], color=colors)\n",
    "plt.xlabel('Response')\n",
    "plt.ylabel('Count')\n",
    "plt.title('does working from home save time?')\n",
    "plt.show()\n",
    "\n",
    "value_counts5 = remotedata['saving time'].value_counts()\n",
    "print (value_counts5)"
   ]
  },
  {
   "cell_type": "code",
   "execution_count": 52,
   "metadata": {},
   "outputs": [
    {
     "data": {
      "image/png": "[encoded data removed]",
      "text/plain": [
       "<Figure size 432x288 with 1 Axes>"
      ]
     },
     "metadata": {
      "needs_background": "light"
     },
     "output_type": "display_data"
    },
    {
     "name": "stdout",
     "output_type": "stream",
     "text": [
      "1    70\n",
      "0    30\n",
      "Name: contact, dtype: int64\n"
     ]
    }
   ],
   "source": [
    "count_yes6 = remotedata['contact'].sum()\n",
    "count_no6 = len(remotedata) - count_yes6\n",
    "plt.bar(['Yes', 'No'], [count_yes6, count_no6], color=colors)\n",
    "plt.xlabel('Response')\n",
    "plt.ylabel('Count')\n",
    "plt.title('does working from home prevent contact with people?')\n",
    "plt.show()\n",
    "\n",
    "value_counts5 = remotedata['contact'].value_counts()\n",
    "print (value_counts5)"
   ]
  },
  {
   "cell_type": "code",
   "execution_count": 63,
   "metadata": {},
   "outputs": [
    {
     "data": {
      "image/png": "[encoded data removed]",
      "text/plain": [
       "<Figure size 432x288 with 1 Axes>"
      ]
     },
     "metadata": {
      "needs_background": "light"
     },
     "output_type": "display_data"
    },
    {
     "name": "stdout",
     "output_type": "stream",
     "text": [
      "0    60\n",
      "1    40\n",
      "Name: focus, dtype: int64\n"
     ]
    }
   ],
   "source": [
    "count_yes9 = remotedata['focus'].sum()\n",
    "count_no9 = len(remotedata) - count_yes9\n",
    "plt.bar(['Working from home', 'Working in an office'], [count_yes9, count_no9], color=colors)\n",
    "plt.xlabel('Response')\n",
    "plt.ylabel('Count')\n",
    "plt.title('Which work type keeps you focused while working?')\n",
    "plt.show()\n",
    "\n",
    "value_counts9 = remotedata['focus'].value_counts()\n",
    "print (value_counts9)"
   ]
  },
  {
   "cell_type": "code",
   "execution_count": 53,
   "metadata": {},
   "outputs": [
    {
     "data": {
      "image/png": "[encoded data removed]",
      "text/plain": [
       "<Figure size 432x288 with 1 Axes>"
      ]
     },
     "metadata": {
      "needs_background": "light"
     },
     "output_type": "display_data"
    },
    {
     "name": "stdout",
     "output_type": "stream",
     "text": [
      "1    80\n",
      "0    20\n",
      "Name: physical stress, dtype: int64\n"
     ]
    }
   ],
   "source": [
    "count_yes7 = remotedata['physical stress'].sum()\n",
    "count_no7 = len(remotedata) - count_yes7\n",
    "plt.bar(['Working from home', 'Working in an office'], [count_yes7, count_no7], color=colors)\n",
    "plt.xlabel('Response')\n",
    "plt.ylabel('Count')\n",
    "plt.title('Which causes Physical stress?')\n",
    "plt.show()\n",
    "\n",
    "value_counts7 = remotedata['physical stress'].value_counts()\n",
    "print (value_counts7)"
   ]
  },
  {
   "cell_type": "code",
   "execution_count": 54,
   "metadata": {},
   "outputs": [
    {
     "data": {
      "image/png": "[encoded data removed]",
      "text/plain": [
       "<Figure size 432x288 with 1 Axes>"
      ]
     },
     "metadata": {
      "needs_background": "light"
     },
     "output_type": "display_data"
    },
    {
     "name": "stdout",
     "output_type": "stream",
     "text": [
      "1    70\n",
      "0    30\n",
      "Name: mental health, dtype: int64\n"
     ]
    }
   ],
   "source": [
    "count_yes8 = remotedata['mental health'].sum()\n",
    "count_no8 = len(remotedata) - count_yes8\n",
    "plt.bar(['Working from home', 'Working in an office'], [count_yes8, count_no8], color =colors)\n",
    "plt.xlabel('Response')\n",
    "plt.ylabel('Count')\n",
    "plt.title('Which likely affected your mental health?')\n",
    "plt.show()\n",
    "\n",
    "value_counts8 = remotedata['mental health'].value_counts()\n",
    "print (value_counts8)"
   ]
  },
  {
   "cell_type": "markdown",
   "metadata": {},
   "source": [
    "For preference, 1 is working from home, -1 is hybrid work, and 0 is working in office. "
   ]
  },
  {
   "cell_type": "code",
   "execution_count": 64,
   "metadata": {},
   "outputs": [
    {
     "data": {
      "image/png": "[encoded data removed]",
      "text/plain": [
       "<Figure size 432x288 with 1 Axes>"
      ]
     },
     "metadata": {
      "needs_background": "light"
     },
     "output_type": "display_data"
    },
    {
     "name": "stdout",
     "output_type": "stream",
     "text": [
      "-1    50\n",
      " 0    30\n",
      " 1    20\n",
      "Name: preference, dtype: int64\n"
     ]
    }
   ],
   "source": [
    "value_counts_preference = remotedata['preference'].value_counts()\n",
    "colors1 = ['purple', 'orange', 'pink']\n",
    "plt.bar(value_counts_preference.index, value_counts_preference.values, color=colors1)\n",
    "plt.xlabel('Preference')\n",
    "plt.ylabel('Count')\n",
    "plt.title('Preference Choices')\n",
    "plt.xticks(value_counts_preference.index, ['Hybrid', 'On-site', 'Remote']) \n",
    "plt.show()\n",
    "print(value_counts_preference)\n"
   ]
  },
  {
   "cell_type": "code",
   "execution_count": 28,
   "metadata": {},
   "outputs": [],
   "source": [
    "yes_physical_health_pref = remotedata[(remotedata['physical stress'] == 1) & (remotedata['preference'] == 1)]\n",
    "\n",
    "percentage1 = (len(yes_physical_health_pref) / len(remotedata)) * 100\n"
   ]
  },
  {
   "cell_type": "code",
   "execution_count": 29,
   "metadata": {},
   "outputs": [],
   "source": [
    "yes_physical_health_nopref = remotedata[(remotedata['physical stress'] == 1) & (remotedata['preference'] == -1)]\n",
    "\n",
    "percentage2 = (len(yes_physical_health_nopref) / len(remotedata)) * 100\n"
   ]
  },
  {
   "cell_type": "code",
   "execution_count": 30,
   "metadata": {},
   "outputs": [],
   "source": [
    "yes_physical_health_pref_remote = remotedata[(remotedata['physical stress'] == 1) & (remotedata['preference'] == 0)]\n",
    "\n",
    "percentage3 = (len(yes_physical_health_pref_remote) / len(remotedata)) * 100\n"
   ]
  },
  {
   "cell_type": "code",
   "execution_count": 31,
   "metadata": {},
   "outputs": [
    {
     "data": {
      "image/png": "[encoded data removed]",
      "text/plain": [
       "<Figure size 432x288 with 1 Axes>"
      ]
     },
     "metadata": {},
     "output_type": "display_data"
    }
   ],
   "source": [
    "sizes = [percentage1, percentage2 , percentage3]\n",
    "\n",
    "labels = ['Remote', 'Hybrid', 'In office']\n",
    "colors = ['pink', 'orange', 'purple']\n",
    "\n",
    "# Plotting the pie chart\n",
    "plt.pie(sizes, labels=labels, colors=colors, autopct='%1.1f%%', startangle=140)\n",
    "plt.title('What did People who dealt with physical stress from remote work want?')\n",
    "plt.axis('equal')  \n",
    "plt.show()"
   ]
  },
  {
   "cell_type": "code",
   "execution_count": 32,
   "metadata": {},
   "outputs": [],
   "source": [
    "yes_mental_health_pref = remotedata[(remotedata['mental health'] == 1) & (remotedata['preference'] == 1)]\n",
    "\n",
    "percentage5 = (len(yes_mental_health_pref) / len(remotedata)) * 100\n",
    "\n",
    "\n",
    "yes_mental_health_nopref = remotedata[(remotedata['mental health'] == 1) & (remotedata['preference'] == 0)]\n",
    "percentage6 = (len(yes_mental_health_nopref) / len(remotedata)) * 100\n",
    "\n",
    "\n",
    "yes_mental_health_pref_hybrid = remotedata[(remotedata['mental health'] == 1) & (remotedata['preference'] == -1)]\n",
    "\n",
    "percentage7 = (len(yes_mental_health_pref_hybrid) / len(remotedata)) * 100\n",
    "\n"
   ]
  },
  {
   "cell_type": "code",
   "execution_count": 26,
   "metadata": {},
   "outputs": [
    {
     "data": {
      "image/png": "[encoded data removed]",
      "text/plain": [
       "<Figure size 432x288 with 1 Axes>"
      ]
     },
     "metadata": {},
     "output_type": "display_data"
    }
   ],
   "source": [
    "sizes = [percentage5, percentage6 , percentage7]\n",
    "\n",
    "labels = ['Remote', 'In office', 'Hybrid']\n",
    "colors = ['pink', 'orange', 'purple']\n",
    "\n",
    "# Plotting the pie chart\n",
    "plt.pie(sizes, labels=labels, colors=colors, autopct='%1.1f%%', startangle=140)\n",
    "plt.title('What did People who dealt with mental health issues from remote work want?')\n",
    "plt.axis('equal')  \n",
    "plt.show()"
   ]
  },
  {
   "cell_type": "markdown",
   "metadata": {},
   "source": []
  },
  {
   "cell_type": "markdown",
   "metadata": {},
   "source": [
    "# Summary of Data"
   ]
  },
  {
   "cell_type": "markdown",
   "metadata": {},
   "source": [
    "Firstly, it seems that majority of those who had answered had previous experience with remote work. The survey did not specify whether or not they were full time remote or had just done some remote work. \n",
    "Then, we look at what survey participants thought how remote work had affected productivity and if it affected their ability to go out. \n",
    "We can see that majority thought that it did increase their productivity. However, majority also found that remote work had affected their ability to go out. \n",
    "Then with a 100% response of \"yes\", we see that all the survey respondents have found that remote work increased flexibility. \n",
    "When it comes to saving time and connecting with people, we can see that majority of respondents found that remote work does not save time and does prevent them from connecting with people. For the matter of focusing while working, majority have found that working in office helps them focus more. \n",
    "Next, we look at how it affects their mental and physical health. The question \"Which work type has the potential to cause you physical problems, such as the neck, back, and leg pain?\" has found most of the responses to be \"Working from home\". This same result came from the following question of \"Which work type has the potential to cause mental disorders, such as stress, anxiety, and depression?\". \n",
    "For the last question of the survey, they were asked which method of work would they prefer the most. The most preffered option was hybrid work, followed by in office, then lastly remote at home work. \n",
    "Then, I specifically looked at those who had answered that remote work has negatively affected their physical and mental health to some capacity. What mode of work would they prefer? \n",
    "For those who had answered that their physical health was affected by remote work, majority had preffered hybrid work, followed by in office, then fully remote. This was the same for those who had answered that their mental health was affected by remote work.  "
   ]
  },
  {
   "cell_type": "markdown",
   "metadata": {},
   "source": [
    "# Discussion"
   ]
  },
  {
   "cell_type": "markdown",
   "metadata": {},
   "source": [
    "We can see that remote work has affected the mental and physical health of the employees, however, was seen positively in some regards such as increasing flexibility and productivity. \n",
    "Even with the negative effects of remote work that has been seen with the data, such as the physical stress and mental health issues, majority of the respondents had not wanted to give up remote work all together. As observed by the data, hybrid work seems to be the most preffered type of work. This was not a surprise as these respondents are similar to what we have seen in the research provided in the background literature. These papers have found that many workers are open to hybrid work, as it may become the future. \n",
    "Going back to the research question : With the increasing transition to remote work post COVID-19, how has remote work affected the mental and physical health, and job satisfaction when compared to working in a traditional office-based environment and does that cause a preference for one method over the other?\n",
    "We can now answer the question to say that remote work post COVID-19 has affected the mental and physical health of employees, as well as affected their job satisfaction levels to some degree. However, it did not cause a complete aversion to remote work, as we can see that many are open to a hybrid method of working, which includes remote work. There also seemed to be some positive benefits to remote work, such as increased flexibility and productivity. \n",
    "The hypothesis held true in some ways, as hybrid work was the preffered method, however, with the data we can see that remote work was the least wanted method of work and was not preffered over on-site. \n",
    "We also saw that remote work and on-site work had affected workers in different aspects, so we would reject the null hypothesis. \n"
   ]
  },
  {
   "cell_type": "markdown",
   "metadata": {},
   "source": [
    "# Limitation and Future Studies"
   ]
  },
  {
   "cell_type": "markdown",
   "metadata": {},
   "source": [
    "Some limitations of this project includes the nature of the dataset itself. The owner of the dataset had collected the data in order to research the effects that remote work had on workers post COVID-19, but had indiciated their preference for on-site work. So, there could be bias involved in terms of who the survey was sent to as well as how the questions could have been framed. It would have been great to work with more than one dataset and look more deeply into the effects of remote work, perhaps in industries other than the tech industry. \n",
    "One possible future study, could be looking at how it affected parents specifically, and understand how that might affected their preference. Also, we can take it a step further and analyze the reponses by gender. Since remote work/hybrid work seem to be the future in some ways, there are many more possible ways to look into its effects. "
   ]
  }
 ],
 "metadata": {
  "kernelspec": {
   "display_name": "Python 3 (ipykernel)",
   "language": "python",
   "name": "python3"
  },
  "language_info": {
   "codemirror_mode": {
    "name": "ipython",
    "version": 3
   },
   "file_extension": ".py",
   "mimetype": "text/x-python",
   "name": "python",
   "nbconvert_exporter": "python",
   "pygments_lexer": "ipython3",
   "version": "3.9.5"
  }
 },
 "nbformat": 4,
 "nbformat_minor": 2
}
